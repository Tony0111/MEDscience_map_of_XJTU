{
 "cells": [
  {
   "cell_type": "markdown",
   "id": "af967b32",
   "metadata": {},
   "source": [
    "# 文档介绍：\n",
    "- 从zotero导出的医学数据csv文件一共有五个（按照年份）\n",
    "- 数据清洗时，合并为一个文件更便于处理，这就是本文件所做的事情\n",
    "- 这个文档处理完后的数据会到`data_process.ipynb`中继续后续处理"
   ]
  },
  {
   "cell_type": "code",
   "execution_count": 6,
   "id": "16639fc0",
   "metadata": {},
   "outputs": [],
   "source": [
    "import pandas as pd\n",
    "import glob\n",
    "import os"
   ]
  },
  {
   "cell_type": "markdown",
   "id": "31babfec",
   "metadata": {},
   "source": [
    "## 定义文件路径\n",
    "- 意思让电脑知道文件的位置"
   ]
  },
  {
   "cell_type": "code",
   "execution_count": 7,
   "id": "972024a3",
   "metadata": {},
   "outputs": [],
   "source": [
    "# --- 1. 定义文件路径 ---\n",
    "# 定义数据文件夹的相对路径\n",
    "# . 表示当前 Notebook 文件所在的目录\n",
    "# .. 表示上一级目录\n",
    "# 假设你的 Notebook 在 'notebooks/' 文件夹下，而数据文件夹 'data/raw/' \n",
    "# 在仓库的根目录下，所以需要先回退一级 (..) 再进入 'data/raw/'\n",
    "data_path = os.path.join(os.getcwd(), '..', 'data', 'raw') \n",
    "processed_data_path = os.path.join(os.getcwd(), '..', 'data', 'processed')"
   ]
  },
  {
   "cell_type": "code",
   "execution_count": 8,
   "id": "c755d026",
   "metadata": {},
   "outputs": [
    {
     "name": "stdout",
     "output_type": "stream",
     "text": [
      "以下CSV文件将被读取：\n",
      "d:\\MEDscience_map_of_XJTU\\notebook\\..\\data\\raw\\pubmed-XianJiaoto-set2021.csv\n",
      "d:\\MEDscience_map_of_XJTU\\notebook\\..\\data\\raw\\pubmed-XianJiaoto-set2022.csv\n",
      "d:\\MEDscience_map_of_XJTU\\notebook\\..\\data\\raw\\pubmed-XianJiaoto-set2023.csv\n",
      "d:\\MEDscience_map_of_XJTU\\notebook\\..\\data\\raw\\pubmed-XianJiaoto-set2024.csv\n",
      "d:\\MEDscience_map_of_XJTU\\notebook\\..\\data\\raw\\pubmed-XianJiaoto-set2025.csv\n"
     ]
    }
   ],
   "source": [
    "# 使用glob找到所有以.csv结尾的文件\n",
    "# 这个路径是相对于当前 Notebook 文件执行时的工作目录而言的\n",
    "all_csv_files = glob.glob(os.path.join(data_path, \"*.csv\"))\n",
    "# 打印出来检查一下，确保文件都被找到了\n",
    "print(\"以下CSV文件将被读取：\")\n",
    "if not all_csv_files:\n",
    "    print(\"--- 警告：未找到任何CSV文件！请检查：---\")\n",
    "    print(f\"1. notebook 的位置是否正确？ (当前工作目录: {os.getcwd()})\")\n",
    "    print(f\"2. 'data/raw/' 文件夹是否在你的仓库根目录下？\")\n",
    "    print(f\"3. 'data/raw/' 文件夹内是否包含您要读取的 .csv 文件？\")\n",
    "else:\n",
    "    for f in sorted(all_csv_files): # 使用 sorted 保证输出顺序一致\n",
    "        print(f)"
   ]
  },
  {
   "cell_type": "markdown",
   "id": "5e162ad8",
   "metadata": {},
   "source": [
    "## 关键步骤：合并操作"
   ]
  },
  {
   "cell_type": "code",
   "execution_count": 9,
   "id": "bdd44166",
   "metadata": {},
   "outputs": [],
   "source": [
    "# --- 2. 循环读取并合并 ---\n",
    "# 创建一个空列表，用来存放每个文件读取后的DataFrame\n",
    "df_list = []\n",
    "\n",
    "for file in all_csv_files:\n",
    "    # 循环读取每一个csv文件\n",
    "    df_temp = pd.read_csv(file)\n",
    "    # 将读取的DataFrame添加到列表中\n",
    "    df_list.append(df_temp)\n",
    "\n",
    "# 使用pd.concat()函数将列表中的所有DataFrame一次性合并\n",
    "# ignore_index=True 是非常重要的一步，它会重新生成一套连续的索引，避免索引重复\n",
    "df_combined = pd.concat(df_list, ignore_index=True)"
   ]
  },
  {
   "cell_type": "markdown",
   "id": "f1f811d8",
   "metadata": {},
   "source": [
    "## 保存合并后的文件"
   ]
  },
  {
   "cell_type": "code",
   "execution_count": 12,
   "id": "d8225927",
   "metadata": {},
   "outputs": [
    {
     "name": "stdout",
     "output_type": "stream",
     "text": [
      "\n",
      "合并完成！总共包含 25105 条记录。\n",
      "数据已保存到: d:\\MEDscience_map_of_XJTU\\notebook\\..\\data\\processed\\zotero_data_combined.csv\n"
     ]
    }
   ],
   "source": [
    "# --- 3. 保存合并后的文件 ---\n",
    "# 定义新文件的保存路径，使用 processed_data_path\n",
    "output_filename = os.path.join(processed_data_path, 'zotero_data_combined.csv')\n",
    "# 将合并后的大文件保存起来\n",
    "try:\n",
    "    df_combined.to_csv(str(output_filename), index=False) # to_csv 需要字符串路径\n",
    "    print(f\"\\n合并完成！总共包含 {len(df_combined)} 条记录。\")\n",
    "    print(f\"数据已保存到: {output_filename}\")\n",
    "except Exception as e:\n",
    "    print(f\"保存文件 {output_filename} 时出错: {e}\")\n",
    "    "
   ]
  },
  {
   "cell_type": "markdown",
   "id": "91bf1ee7",
   "metadata": {},
   "source": [
    "## 检查合并后的数据"
   ]
  },
  {
   "cell_type": "code",
   "execution_count": 13,
   "id": "1a19a86d",
   "metadata": {},
   "outputs": [
    {
     "name": "stdout",
     "output_type": "stream",
     "text": [
      "\n",
      "合并后数据预览：\n",
      "        Key       Item Type  Publication Year  \\\n",
      "0  4WPZ4WZA  journalArticle              2022   \n",
      "1  8BVI224Y  journalArticle              2021   \n",
      "2  XUSNP58T  journalArticle              2021   \n",
      "3  H4XWF2NY  journalArticle              2021   \n",
      "4  EKJAB2RB  journalArticle              2021   \n",
      "\n",
      "                                              Author  \\\n",
      "0  Sun, Lei; Wang, Hua; Yu, Shanshan; Zhang, Lin;...   \n",
      "1                Zhou, Lina; Ma, Xiancang; Wang, Wei   \n",
      "2  Jin, Xuting; Ren, Jiajia; Li, Ruohan; Gao, Ya;...   \n",
      "3  Feng, Wei; Wang, Jian; Yan, Xin; Zhang, Qianqi...   \n",
      "4  Shao, Can; Wang, Xiaomeng; Ma, Qingyan; Zhao, ...   \n",
      "\n",
      "                                               Title  \\\n",
      "0  Herceptin induces ferroptosis and mitochondria...   \n",
      "1  Relationship between Cognitive Performance and...   \n",
      "2  Global burden of upper respiratory infections ...   \n",
      "3  ERK/Drp1-dependent mitochondrial fission contr...   \n",
      "4  Analysis of risk factors of non-suicidal self-...   \n",
      "\n",
      "                             Publication Title  ISBN                 ISSN  \\\n",
      "0  International journal of molecular medicine   NaN  1791-244X 1107-3756   \n",
      "1               Journal of affective disorders   NaN  1573-2517 0165-0327   \n",
      "2                            EClinicalMedicine   NaN            2589-5370   \n",
      "3                           Cell proliferation   NaN  1365-2184 0960-7722   \n",
      "4                Annals of palliative medicine   NaN  2224-5839 2224-5820   \n",
      "\n",
      "                            DOI  Url  ... Programming Language Version System  \\\n",
      "0        10.3892/ijmm.2021.5072  NaN  ...                  NaN     NaN    NaN   \n",
      "1     10.1016/j.jad.2020.12.059  NaN  ...                  NaN     NaN    NaN   \n",
      "2  10.1016/j.eclinm.2021.100986  NaN  ...                  NaN     NaN    NaN   \n",
      "3             10.1111/cpr.13048  NaN  ...                  NaN     NaN    NaN   \n",
      "4          10.21037/apm-21-1951  NaN  ...                  NaN     NaN    NaN   \n",
      "\n",
      "  Code  Code Number Section  Session Committee History  Legislative Body  \n",
      "0  NaN          NaN     NaN      NaN       NaN     NaN               NaN  \n",
      "1  NaN          NaN     NaN      NaN       NaN     NaN               NaN  \n",
      "2  NaN          NaN     NaN      NaN       NaN     NaN               NaN  \n",
      "3  NaN          NaN     NaN      NaN       NaN     NaN               NaN  \n",
      "4  NaN          NaN     NaN      NaN       NaN     NaN               NaN  \n",
      "\n",
      "[5 rows x 87 columns]\n",
      "\n",
      "合并后数据信息：\n",
      "<class 'pandas.core.frame.DataFrame'>\n",
      "RangeIndex: 25105 entries, 0 to 25104\n",
      "Data columns (total 87 columns):\n",
      " #   Column                Non-Null Count  Dtype  \n",
      "---  ------                --------------  -----  \n",
      " 0   Key                   25105 non-null  object \n",
      " 1   Item Type             25105 non-null  object \n",
      " 2   Publication Year      25105 non-null  int64  \n",
      " 3   Author                25105 non-null  object \n",
      " 4   Title                 25105 non-null  object \n",
      " 5   Publication Title     25064 non-null  object \n",
      " 6   ISBN                  0 non-null      float64\n",
      " 7   ISSN                  25063 non-null  object \n",
      " 8   DOI                   24969 non-null  object \n",
      " 9   Url                   0 non-null      float64\n",
      " 10  Abstract Note         24183 non-null  object \n",
      " 11  Date                  25105 non-null  object \n",
      " 12  Date Added            25105 non-null  object \n",
      " 13  Date Modified         25105 non-null  object \n",
      " 14  Access Date           0 non-null      float64\n",
      " 15  Pages                 22971 non-null  object \n",
      " 16  Num Pages             0 non-null      float64\n",
      " 17  Issue                 17668 non-null  object \n",
      " 18  Volume                24594 non-null  object \n",
      " 19  Number Of Volumes     0 non-null      float64\n",
      " 20  Journal Abbreviation  25064 non-null  object \n",
      " 21  Short Title           0 non-null      float64\n",
      " 22  Series                0 non-null      float64\n",
      " 23  Series Number         0 non-null      float64\n",
      " 24  Series Text           0 non-null      float64\n",
      " 25  Series Title          0 non-null      float64\n",
      " 26  Publisher             0 non-null      float64\n",
      " 27  Place                 41 non-null     object \n",
      " 28  Language              25105 non-null  object \n",
      " 29  Rights                17986 non-null  object \n",
      " 30  Type                  0 non-null      float64\n",
      " 31  Archive               0 non-null      float64\n",
      " 32  Archive Location      0 non-null      float64\n",
      " 33  Library Catalog       0 non-null      float64\n",
      " 34  Call Number           0 non-null      float64\n",
      " 35  Extra                 25105 non-null  object \n",
      " 36  Notes                 0 non-null      float64\n",
      " 37  File Attachments      0 non-null      float64\n",
      " 38  Link Attachments      0 non-null      float64\n",
      " 39  Manual Tags           22640 non-null  object \n",
      " 40  Automatic Tags        0 non-null      float64\n",
      " 41  Editor                0 non-null      float64\n",
      " 42  Series Editor         0 non-null      float64\n",
      " 43  Translator            0 non-null      float64\n",
      " 44  Contributor           0 non-null      float64\n",
      " 45  Attorney Agent        0 non-null      float64\n",
      " 46  Book Author           0 non-null      float64\n",
      " 47  Cast Member           0 non-null      float64\n",
      " 48  Commenter             0 non-null      float64\n",
      " 49  Composer              0 non-null      float64\n",
      " 50  Cosponsor             0 non-null      float64\n",
      " 51  Counsel               0 non-null      float64\n",
      " 52  Interviewer           0 non-null      float64\n",
      " 53  Producer              0 non-null      float64\n",
      " 54  Recipient             0 non-null      float64\n",
      " 55  Reviewed Author       0 non-null      float64\n",
      " 56  Scriptwriter          0 non-null      float64\n",
      " 57  Words By              0 non-null      float64\n",
      " 58  Guest                 0 non-null      float64\n",
      " 59  Number                0 non-null      float64\n",
      " 60  Edition               0 non-null      float64\n",
      " 61  Running Time          0 non-null      float64\n",
      " 62  Scale                 0 non-null      float64\n",
      " 63  Medium                0 non-null      float64\n",
      " 64  Artwork Size          0 non-null      float64\n",
      " 65  Filing Date           0 non-null      float64\n",
      " 66  Application Number    0 non-null      float64\n",
      " 67  Assignee              0 non-null      float64\n",
      " 68  Issuing Authority     0 non-null      float64\n",
      " 69  Country               0 non-null      float64\n",
      " 70  Meeting Name          0 non-null      float64\n",
      " 71  Conference Name       0 non-null      float64\n",
      " 72  Court                 0 non-null      float64\n",
      " 73  References            0 non-null      float64\n",
      " 74  Reporter              0 non-null      float64\n",
      " 75  Legal Status          0 non-null      float64\n",
      " 76  Priority Numbers      0 non-null      float64\n",
      " 77  Programming Language  0 non-null      float64\n",
      " 78  Version               0 non-null      float64\n",
      " 79  System                0 non-null      float64\n",
      " 80  Code                  0 non-null      float64\n",
      " 81  Code Number           0 non-null      float64\n",
      " 82  Section               0 non-null      float64\n",
      " 83  Session               0 non-null      float64\n",
      " 84  Committee             0 non-null      float64\n",
      " 85  History               0 non-null      float64\n",
      " 86  Legislative Body      0 non-null      float64\n",
      "dtypes: float64(66), int64(1), object(20)\n",
      "memory usage: 16.7+ MB\n"
     ]
    }
   ],
   "source": [
    "# --- 4. 检查合并后的数据 ---\n",
    "# 显示前5行，快速预览\n",
    "print(\"\\n合并后数据预览：\")\n",
    "print(df_combined.head())\n",
    "\n",
    "# 显示数据信息，检查列名、非空值和数据类型\n",
    "print(\"\\n合并后数据信息：\")\n",
    "df_combined.info()"
   ]
  },
  {
   "cell_type": "markdown",
   "id": "2c9b87ea",
   "metadata": {},
   "source": [
    "## 下一步\n",
    "- 进入`data_process.ipynb`继续下一步数据处理"
   ]
  }
 ],
 "metadata": {
  "kernelspec": {
   "display_name": "map_of_XJTU_MED",
   "language": "python",
   "name": "python3"
  },
  "language_info": {
   "codemirror_mode": {
    "name": "ipython",
    "version": 3
   },
   "file_extension": ".py",
   "mimetype": "text/x-python",
   "name": "python",
   "nbconvert_exporter": "python",
   "pygments_lexer": "ipython3",
   "version": "3.12.11"
  }
 },
 "nbformat": 4,
 "nbformat_minor": 5
}
